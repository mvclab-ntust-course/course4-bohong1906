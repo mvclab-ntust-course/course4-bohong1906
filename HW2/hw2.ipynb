{
  "cells": [
    {
      "cell_type": "code",
      "execution_count": null,
      "metadata": {
        "id": "TEPOjoMQdkWj"
      },
      "outputs": [],
      "source": [
        "!pip install ultralytics\n",
        "!pip install roboflow"
      ]
    },
    {
      "cell_type": "code",
      "execution_count": null,
      "metadata": {
        "id": "6WflutBqcQsE"
      },
      "outputs": [],
      "source": [
        "# using Mask Wearing's dataset\n",
        "from roboflow import Roboflow\n",
        "rf = Roboflow(api_key=\"VlGUy9Ydbc4J1YnkSYlq\")\n",
        "project = rf.workspace(\"joseph-nelson\").project(\"mask-wearing\")\n",
        "version = project.version(4)\n",
        "dataset = version.download(\"yolov8\")"
      ]
    },
    {
      "cell_type": "code",
      "execution_count": null,
      "metadata": {
        "id": "HRpz8ygFp1oG"
      },
      "outputs": [],
      "source": [
        "#training model\n",
        "!yolo task=detect mode=train model=yolov8s.pt data=/content/Mask-Wearing-4/data.yaml epochs=100 imgsz=640"
      ]
    },
    {
      "cell_type": "code",
      "execution_count": null,
      "metadata": {},
      "outputs": [],
      "source": [
        "#pt testing\n",
        "!yolo task=detect mode=val model=/content/runs/detect/train/weights/best.pt data=/content/Mask-Wearing-4/data.yaml split=test"
      ]
    }
  ],
  "metadata": {
    "accelerator": "GPU",
    "colab": {
      "gpuType": "T4",
      "provenance": []
    },
    "kernelspec": {
      "display_name": "Python 3",
      "name": "python3"
    },
    "language_info": {
      "name": "python"
    }
  },
  "nbformat": 4,
  "nbformat_minor": 0
}
